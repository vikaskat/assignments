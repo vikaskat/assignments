{
 "cells": [
  {
   "cell_type": "code",
   "execution_count": 1,
   "id": "7843cad4-4e60-4a28-b592-5d3cd5b42d1a",
   "metadata": {},
   "outputs": [],
   "source": [
    "d={}"
   ]
  },
  {
   "cell_type": "code",
   "execution_count": 2,
   "id": "fa011f3d-2822-4e1f-b56f-2589b1289dfe",
   "metadata": {},
   "outputs": [
    {
     "data": {
      "text/plain": [
       "dict"
      ]
     },
     "execution_count": 2,
     "metadata": {},
     "output_type": "execute_result"
    }
   ],
   "source": [
    "type(d)"
   ]
  },
  {
   "cell_type": "code",
   "execution_count": 3,
   "id": "c93eccfe-fbc4-425c-9c07-91d73432d2c9",
   "metadata": {},
   "outputs": [],
   "source": [
    "#key under as a word, and value as a meaning, key can take any name as word name,\n",
    "d1={'key' : \"sudh\"}"
   ]
  },
  {
   "cell_type": "code",
   "execution_count": 4,
   "id": "c0420623-69c8-4891-9592-eb1753c54176",
   "metadata": {},
   "outputs": [
    {
     "data": {
      "text/plain": [
       "{'key': 'sudh'}"
      ]
     },
     "execution_count": 4,
     "metadata": {},
     "output_type": "execute_result"
    }
   ],
   "source": [
    "d1"
   ]
  },
  {
   "cell_type": "code",
   "execution_count": 5,
   "id": "a63f11a3-4c19-4832-a153-8a69138a8ec0",
   "metadata": {},
   "outputs": [],
   "source": [
    "d2={'name': \"sudhanshu\", \"email\": \"ss@gmail.com\", \"number\" : 334534 }"
   ]
  },
  {
   "cell_type": "code",
   "execution_count": 6,
   "id": "e8f1b213-5eb8-4b73-8b10-d31ae82023ff",
   "metadata": {
    "tags": []
   },
   "outputs": [
    {
     "data": {
      "text/plain": [
       "{'name': 'sudhanshu', 'email': 'ss@gmail.com', 'number': 334534}"
      ]
     },
     "execution_count": 6,
     "metadata": {},
     "output_type": "execute_result"
    }
   ],
   "source": [
    "d2"
   ]
  },
  {
   "cell_type": "code",
   "execution_count": 8,
   "id": "9e3bd6ac-8c38-413f-91e0-84e0cd5bb33f",
   "metadata": {},
   "outputs": [
    {
     "ename": "SyntaxError",
     "evalue": "invalid syntax (2120526264.py, line 1)",
     "output_type": "error",
     "traceback": [
      "\u001b[0;36m  Cell \u001b[0;32mIn [8], line 1\u001b[0;36m\u001b[0m\n\u001b[0;31m    d3={234:\"sudh\", @wer:\"kumar\" }\u001b[0m\n\u001b[0m                    ^\u001b[0m\n\u001b[0;31mSyntaxError\u001b[0m\u001b[0;31m:\u001b[0m invalid syntax\n"
     ]
    }
   ],
   "source": [
    "d3={234:\"sudh\", @wer:\"kumar\" }"
   ]
  },
  {
   "cell_type": "code",
   "execution_count": 9,
   "id": "8ac69451-6239-4dc1-bca3-e39c468153b6",
   "metadata": {},
   "outputs": [
    {
     "ename": "NameError",
     "evalue": "name '_wer' is not defined",
     "output_type": "error",
     "traceback": [
      "\u001b[0;31m---------------------------------------------------------------------------\u001b[0m",
      "\u001b[0;31mNameError\u001b[0m                                 Traceback (most recent call last)",
      "Cell \u001b[0;32mIn [9], line 1\u001b[0m\n\u001b[0;32m----> 1\u001b[0m d3\u001b[38;5;241m=\u001b[39m{\u001b[38;5;241m234\u001b[39m:\u001b[38;5;124m\"\u001b[39m\u001b[38;5;124msudh\u001b[39m\u001b[38;5;124m\"\u001b[39m, \u001b[43m_wer\u001b[49m:\u001b[38;5;124m\"\u001b[39m\u001b[38;5;124mkumar\u001b[39m\u001b[38;5;124m\"\u001b[39m }\n",
      "\u001b[0;31mNameError\u001b[0m: name '_wer' is not defined"
     ]
    }
   ],
   "source": [
    "d3={234:\"sudh\", _wer:\"kumar\" }"
   ]
  },
  {
   "cell_type": "code",
   "execution_count": 11,
   "id": "461be694-4572-4e53-925f-2369c7f3bed6",
   "metadata": {},
   "outputs": [],
   "source": [
    "d3={234:\"sudh\", '_wer':\"kumar\" }"
   ]
  },
  {
   "cell_type": "code",
   "execution_count": 12,
   "id": "06bfb42e-2fb5-41de-8fba-92aee699691d",
   "metadata": {},
   "outputs": [
    {
     "data": {
      "text/plain": [
       "{234: 'sudh', '_wer': 'kumar'}"
      ]
     },
     "execution_count": 12,
     "metadata": {},
     "output_type": "execute_result"
    }
   ],
   "source": [
    "d3"
   ]
  },
  {
   "cell_type": "code",
   "execution_count": 13,
   "id": "33f1140d-0e11-4ec5-8277-8f0d3e7b3a2a",
   "metadata": {},
   "outputs": [],
   "source": [
    "d3={234:\"sudh\", '_wer':\"kumar\" , True:24234}"
   ]
  },
  {
   "cell_type": "code",
   "execution_count": 14,
   "id": "b90672bc-da01-4c90-abee-41668572aaef",
   "metadata": {},
   "outputs": [
    {
     "data": {
      "text/plain": [
       "{234: 'sudh', '_wer': 'kumar', True: 24234}"
      ]
     },
     "execution_count": 14,
     "metadata": {},
     "output_type": "execute_result"
    }
   ],
   "source": [
    "d3"
   ]
  },
  {
   "cell_type": "code",
   "execution_count": 15,
   "id": "fe104190-9eb9-40ae-a8f5-eac2647c56ee",
   "metadata": {},
   "outputs": [
    {
     "data": {
      "text/plain": [
       "'sudh'"
      ]
     },
     "execution_count": 15,
     "metadata": {},
     "output_type": "execute_result"
    }
   ],
   "source": [
    "d3[234]"
   ]
  },
  {
   "cell_type": "code",
   "execution_count": 16,
   "id": "9a4c7c2d-0b72-4c5a-bc83-c4b24afe890f",
   "metadata": {},
   "outputs": [
    {
     "data": {
      "text/plain": [
       "24234"
      ]
     },
     "execution_count": 16,
     "metadata": {},
     "output_type": "execute_result"
    }
   ],
   "source": [
    "d3[True]"
   ]
  },
  {
   "cell_type": "code",
   "execution_count": 17,
   "id": "b9c4b385-21cf-4f4d-afe4-0949598b7709",
   "metadata": {},
   "outputs": [
    {
     "data": {
      "text/plain": [
       "24234"
      ]
     },
     "execution_count": 17,
     "metadata": {},
     "output_type": "execute_result"
    }
   ],
   "source": [
    "d3[1]"
   ]
  },
  {
   "cell_type": "code",
   "execution_count": 18,
   "id": "b8d5fae5-7ba0-4088-ac50-61afd9621bc9",
   "metadata": {},
   "outputs": [],
   "source": [
    "d4={'name':\"sudh\", 'mail_id':\"ss@gmail.com\" , \"name\":\"sudhanshu\"}"
   ]
  },
  {
   "cell_type": "code",
   "execution_count": 19,
   "id": "58472b27-abc5-4f6d-b90b-78cfbb014b00",
   "metadata": {},
   "outputs": [
    {
     "data": {
      "text/plain": [
       "'sudhanshu'"
      ]
     },
     "execution_count": 19,
     "metadata": {},
     "output_type": "execute_result"
    }
   ],
   "source": [
    "d4['name']"
   ]
  },
  {
   "cell_type": "code",
   "execution_count": 20,
   "id": "0236a329-012c-4f80-9e27-36ab645db4c4",
   "metadata": {},
   "outputs": [],
   "source": [
    "d5={\"company\":\"pwskills\", \"course\":[\"web dev\", \"data science\", \"java with dsa system design\"]}"
   ]
  },
  {
   "cell_type": "code",
   "execution_count": 21,
   "id": "bed08198-c451-4cdb-b438-29166d20bdd6",
   "metadata": {},
   "outputs": [
    {
     "data": {
      "text/plain": [
       "{'company': 'pwskills',\n",
       " 'course': ['web dev', 'data science', 'java with dsa system design']}"
      ]
     },
     "execution_count": 21,
     "metadata": {},
     "output_type": "execute_result"
    }
   ],
   "source": [
    "d5"
   ]
  },
  {
   "cell_type": "code",
   "execution_count": 22,
   "id": "01913517-d3ff-47e5-99a1-33d87441c17b",
   "metadata": {},
   "outputs": [
    {
     "data": {
      "text/plain": [
       "['web dev', 'data science', 'java with dsa system design']"
      ]
     },
     "execution_count": 22,
     "metadata": {},
     "output_type": "execute_result"
    }
   ],
   "source": [
    "d5['course']"
   ]
  },
  {
   "cell_type": "code",
   "execution_count": 23,
   "id": "1c747a4f-99cb-4bb5-a1fc-b3a8a554d215",
   "metadata": {},
   "outputs": [
    {
     "data": {
      "text/plain": [
       "'java with dsa system design'"
      ]
     },
     "execution_count": 23,
     "metadata": {},
     "output_type": "execute_result"
    }
   ],
   "source": [
    "d5['course'][2]"
   ]
  },
  {
   "cell_type": "code",
   "execution_count": 24,
   "id": "e3c574fd-9e27-4d01-ac66-f8b3dbe06378",
   "metadata": {},
   "outputs": [],
   "source": [
    "d6={\"number\":[2,34,3,34,34], \"assignment\" : (1,2,3,4,5,6), \"launch_date\":{28,12,14}}"
   ]
  },
  {
   "cell_type": "code",
   "execution_count": 25,
   "id": "bb7bab42-82e0-408d-a6fe-8e163ad4bbe2",
   "metadata": {},
   "outputs": [
    {
     "data": {
      "text/plain": [
       "{'number': [2, 34, 3, 34, 34],\n",
       " 'assignment': (1, 2, 3, 4, 5, 6),\n",
       " 'launch_date': {12, 14, 28}}"
      ]
     },
     "execution_count": 25,
     "metadata": {},
     "output_type": "execute_result"
    }
   ],
   "source": [
    "d6"
   ]
  },
  {
   "cell_type": "code",
   "execution_count": 26,
   "id": "7e66a256-9550-4ed2-82b4-e4ad687438a8",
   "metadata": {},
   "outputs": [],
   "source": [
    "#dict=key:list,key:tuple, key:set, key:dict.{key:value, key:value, key:value}\n",
    "d6={\"number\":[2,34,3,34,34], \"assignment\" : (1,2,3,4,5,6), \"launch_date\":{28,12,14}, \"class_time\":{\"web_dev\" : 8 , \"Data science masters\" : 8, \"java with dsa and system design\":7}}"
   ]
  },
  {
   "cell_type": "code",
   "execution_count": 27,
   "id": "7fabdcb5-455e-4d86-b281-2c6037d41b2f",
   "metadata": {},
   "outputs": [
    {
     "data": {
      "text/plain": [
       "{'number': [2, 34, 3, 34, 34],\n",
       " 'assignment': (1, 2, 3, 4, 5, 6),\n",
       " 'launch_date': {12, 14, 28},\n",
       " 'class_time': {'web_dev': 8,\n",
       "  'Data science masters': 8,\n",
       "  'java with dsa and system design': 7}}"
      ]
     },
     "execution_count": 27,
     "metadata": {},
     "output_type": "execute_result"
    }
   ],
   "source": [
    "d6"
   ]
  },
  {
   "cell_type": "code",
   "execution_count": 28,
   "id": "51c32848-2723-44d3-8e6a-a5fa047479ff",
   "metadata": {},
   "outputs": [
    {
     "data": {
      "text/plain": [
       "{'web_dev': 8, 'Data science masters': 8, 'java with dsa and system design': 7}"
      ]
     },
     "execution_count": 28,
     "metadata": {},
     "output_type": "execute_result"
    }
   ],
   "source": [
    "d6['class_time']"
   ]
  },
  {
   "cell_type": "code",
   "execution_count": 29,
   "id": "8c94568b-9782-4e98-9e74-e07aa25e6baf",
   "metadata": {},
   "outputs": [
    {
     "data": {
      "text/plain": [
       "7"
      ]
     },
     "execution_count": 29,
     "metadata": {},
     "output_type": "execute_result"
    }
   ],
   "source": [
    "d6['class_time']['java with dsa and system design']"
   ]
  },
  {
   "cell_type": "code",
   "execution_count": 30,
   "id": "250de077-e29e-4c76-b13e-1372e9701f9c",
   "metadata": {},
   "outputs": [
    {
     "data": {
      "text/plain": [
       "{'number': [2, 34, 3, 34, 34],\n",
       " 'assignment': (1, 2, 3, 4, 5, 6),\n",
       " 'launch_date': {12, 14, 28},\n",
       " 'class_time': {'web_dev': 8,\n",
       "  'Data science masters': 8,\n",
       "  'java with dsa and system design': 7}}"
      ]
     },
     "execution_count": 30,
     "metadata": {},
     "output_type": "execute_result"
    }
   ],
   "source": [
    "d6"
   ]
  },
  {
   "cell_type": "code",
   "execution_count": 31,
   "id": "db78c8cc-fc5a-431a-9b4f-d12968833aa2",
   "metadata": {},
   "outputs": [],
   "source": [
    "d6['mentor']=[\"sudhanshu\",\"krish\",\"anurag\", \"hayder\"]"
   ]
  },
  {
   "cell_type": "code",
   "execution_count": 32,
   "id": "90656ffc-54e7-4d3d-95f0-39362de27677",
   "metadata": {},
   "outputs": [
    {
     "data": {
      "text/plain": [
       "{'number': [2, 34, 3, 34, 34],\n",
       " 'assignment': (1, 2, 3, 4, 5, 6),\n",
       " 'launch_date': {12, 14, 28},\n",
       " 'class_time': {'web_dev': 8,\n",
       "  'Data science masters': 8,\n",
       "  'java with dsa and system design': 7},\n",
       " 'mentor': ['sudhanshu', 'krish', 'anurag', 'hayder']}"
      ]
     },
     "execution_count": 32,
     "metadata": {},
     "output_type": "execute_result"
    }
   ],
   "source": [
    "d6"
   ]
  },
  {
   "cell_type": "code",
   "execution_count": 33,
   "id": "6fd9a3ae-626b-47ee-8617-4c57c94a3af1",
   "metadata": {},
   "outputs": [],
   "source": [
    "del d6['number']"
   ]
  },
  {
   "cell_type": "code",
   "execution_count": 34,
   "id": "4f242b7c-4296-468b-b232-6b0239be1691",
   "metadata": {},
   "outputs": [
    {
     "data": {
      "text/plain": [
       "{'assignment': (1, 2, 3, 4, 5, 6),\n",
       " 'launch_date': {12, 14, 28},\n",
       " 'class_time': {'web_dev': 8,\n",
       "  'Data science masters': 8,\n",
       "  'java with dsa and system design': 7},\n",
       " 'mentor': ['sudhanshu', 'krish', 'anurag', 'hayder']}"
      ]
     },
     "execution_count": 34,
     "metadata": {},
     "output_type": "execute_result"
    }
   ],
   "source": [
    "d6"
   ]
  },
  {
   "cell_type": "code",
   "execution_count": 35,
   "id": "57c12f63-a80a-4c46-80d1-d634ff17a493",
   "metadata": {},
   "outputs": [
    {
     "data": {
      "text/plain": [
       "dict_keys(['assignment', 'launch_date', 'class_time', 'mentor'])"
      ]
     },
     "execution_count": 35,
     "metadata": {},
     "output_type": "execute_result"
    }
   ],
   "source": [
    "#to see how many number of keys are listed here,\n",
    "d6.keys()"
   ]
  },
  {
   "cell_type": "code",
   "execution_count": 36,
   "id": "9c23c4c2-a10f-4e81-b8aa-32f5ed75a7c5",
   "metadata": {},
   "outputs": [
    {
     "data": {
      "text/plain": [
       "['assignment', 'launch_date', 'class_time', 'mentor']"
      ]
     },
     "execution_count": 36,
     "metadata": {},
     "output_type": "execute_result"
    }
   ],
   "source": [
    "list(d6.keys())"
   ]
  },
  {
   "cell_type": "code",
   "execution_count": 37,
   "id": "5ffd92d4-dae3-4148-9235-c9e1a0317bd6",
   "metadata": {},
   "outputs": [
    {
     "data": {
      "text/plain": [
       "dict_values([(1, 2, 3, 4, 5, 6), {28, 12, 14}, {'web_dev': 8, 'Data science masters': 8, 'java with dsa and system design': 7}, ['sudhanshu', 'krish', 'anurag', 'hayder']])"
      ]
     },
     "execution_count": 37,
     "metadata": {},
     "output_type": "execute_result"
    }
   ],
   "source": [
    "#to find, there are only values from dict.\n",
    "d6.values()"
   ]
  },
  {
   "cell_type": "code",
   "execution_count": 38,
   "id": "abf35ce4-944c-4ef5-843b-7afa755e9ea4",
   "metadata": {},
   "outputs": [
    {
     "data": {
      "text/plain": [
       "[(1, 2, 3, 4, 5, 6),\n",
       " {12, 14, 28},\n",
       " {'web_dev': 8,\n",
       "  'Data science masters': 8,\n",
       "  'java with dsa and system design': 7},\n",
       " ['sudhanshu', 'krish', 'anurag', 'hayder']]"
      ]
     },
     "execution_count": 38,
     "metadata": {},
     "output_type": "execute_result"
    }
   ],
   "source": [
    "list(d6.values())"
   ]
  },
  {
   "cell_type": "code",
   "execution_count": 39,
   "id": "08be5b36-c792-4a00-b5ea-d7b208a02228",
   "metadata": {},
   "outputs": [
    {
     "data": {
      "text/plain": [
       "dict_items([('assignment', (1, 2, 3, 4, 5, 6)), ('launch_date', {28, 12, 14}), ('class_time', {'web_dev': 8, 'Data science masters': 8, 'java with dsa and system design': 7}), ('mentor', ['sudhanshu', 'krish', 'anurag', 'hayder'])])"
      ]
     },
     "execution_count": 39,
     "metadata": {},
     "output_type": "execute_result"
    }
   ],
   "source": [
    "d6.items()"
   ]
  },
  {
   "cell_type": "code",
   "execution_count": 40,
   "id": "088fe59a-f582-4aab-a28b-07d0281af444",
   "metadata": {},
   "outputs": [
    {
     "data": {
      "text/plain": [
       "[('assignment', (1, 2, 3, 4, 5, 6)),\n",
       " ('launch_date', {12, 14, 28}),\n",
       " ('class_time',\n",
       "  {'web_dev': 8,\n",
       "   'Data science masters': 8,\n",
       "   'java with dsa and system design': 7}),\n",
       " ('mentor', ['sudhanshu', 'krish', 'anurag', 'hayder'])]"
      ]
     },
     "execution_count": 40,
     "metadata": {},
     "output_type": "execute_result"
    }
   ],
   "source": [
    "#key and value both chahiye, type casting means usako list,str, tuple etc. me convert karna\n",
    "list(d6.items())"
   ]
  },
  {
   "cell_type": "code",
   "execution_count": 41,
   "id": "46026541-3a26-44ff-9ddf-3fc63e70f653",
   "metadata": {},
   "outputs": [
    {
     "data": {
      "text/plain": [
       "(1, 2, 3, 4, 5, 6)"
      ]
     },
     "execution_count": 41,
     "metadata": {},
     "output_type": "execute_result"
    }
   ],
   "source": [
    "d6.pop('assignment')"
   ]
  },
  {
   "cell_type": "code",
   "execution_count": 42,
   "id": "cb7a45fb-2114-4e24-ada4-bcbb6fb57ac2",
   "metadata": {},
   "outputs": [
    {
     "data": {
      "text/plain": [
       "{'launch_date': {12, 14, 28},\n",
       " 'class_time': {'web_dev': 8,\n",
       "  'Data science masters': 8,\n",
       "  'java with dsa and system design': 7},\n",
       " 'mentor': ['sudhanshu', 'krish', 'anurag', 'hayder']}"
      ]
     },
     "execution_count": 42,
     "metadata": {},
     "output_type": "execute_result"
    }
   ],
   "source": [
    "d6"
   ]
  },
  {
   "cell_type": "code",
   "execution_count": 43,
   "id": "aa276f32-487b-40b7-ae22-548f720bb0da",
   "metadata": {},
   "outputs": [
    {
     "ename": "TypeError",
     "evalue": "pop expected at least 1 argument, got 0",
     "output_type": "error",
     "traceback": [
      "\u001b[0;31m---------------------------------------------------------------------------\u001b[0m",
      "\u001b[0;31mTypeError\u001b[0m                                 Traceback (most recent call last)",
      "Cell \u001b[0;32mIn [43], line 1\u001b[0m\n\u001b[0;32m----> 1\u001b[0m \u001b[43md6\u001b[49m\u001b[38;5;241;43m.\u001b[39;49m\u001b[43mpop\u001b[49m\u001b[43m(\u001b[49m\u001b[43m)\u001b[49m\n",
      "\u001b[0;31mTypeError\u001b[0m: pop expected at least 1 argument, got 0"
     ]
    }
   ],
   "source": [
    "d6.pop()"
   ]
  },
  {
   "cell_type": "code",
   "execution_count": 44,
   "id": "f0a1b3ae-2a89-4186-b648-6bdd12a7acd9",
   "metadata": {},
   "outputs": [
    {
     "ename": "SyntaxError",
     "evalue": "expected ':' (3680773591.py, line 3)",
     "output_type": "error",
     "traceback": [
      "\u001b[0;36m  Cell \u001b[0;32mIn [44], line 3\u001b[0;36m\u001b[0m\n\u001b[0;31m    if marks >=80\u001b[0m\n\u001b[0m                  ^\u001b[0m\n\u001b[0;31mSyntaxError\u001b[0m\u001b[0;31m:\u001b[0m expected ':'\n"
     ]
    }
   ],
   "source": [
    "# = is assign operator, == marks comparing function/comparison operator, python always follow \"indentation\".\n",
    "# in other prog. languages we separates by curly brackets,but not {} concept in python of a code, \n",
    "if marks >=80 \n",
    "    print(\"you will be a part of A0 batch\")"
   ]
  },
  {
   "cell_type": "code",
   "execution_count": 45,
   "id": "4531ac3a-3b3a-4b59-b812-485540aa1a7b",
   "metadata": {},
   "outputs": [
    {
     "ename": "IndentationError",
     "evalue": "expected an indented block after 'if' statement on line 1 (2173449055.py, line 2)",
     "output_type": "error",
     "traceback": [
      "\u001b[0;36m  Cell \u001b[0;32mIn [45], line 2\u001b[0;36m\u001b[0m\n\u001b[0;31m    print(\"you will be a part of A0 batch\")\u001b[0m\n\u001b[0m    ^\u001b[0m\n\u001b[0;31mIndentationError\u001b[0m\u001b[0;31m:\u001b[0m expected an indented block after 'if' statement on line 1\n"
     ]
    }
   ],
   "source": [
    "if marks >=80 :\n",
    "print(\"you will be a part of A0 batch\")"
   ]
  },
  {
   "cell_type": "code",
   "execution_count": 46,
   "id": "0ed0e0d1-27aa-4ca9-902d-79b689490862",
   "metadata": {},
   "outputs": [
    {
     "ename": "NameError",
     "evalue": "name 'marks' is not defined",
     "output_type": "error",
     "traceback": [
      "\u001b[0;31m---------------------------------------------------------------------------\u001b[0m",
      "\u001b[0;31mNameError\u001b[0m                                 Traceback (most recent call last)",
      "Cell \u001b[0;32mIn [46], line 1\u001b[0m\n\u001b[0;32m----> 1\u001b[0m \u001b[38;5;28;01mif\u001b[39;00m \u001b[43mmarks\u001b[49m \u001b[38;5;241m>\u001b[39m\u001b[38;5;241m=\u001b[39m\u001b[38;5;241m80\u001b[39m :\n\u001b[1;32m      2\u001b[0m     \u001b[38;5;28mprint\u001b[39m(\u001b[38;5;124m\"\u001b[39m\u001b[38;5;124myou will be a part of A0 batch\u001b[39m\u001b[38;5;124m\"\u001b[39m)\n\u001b[1;32m      3\u001b[0m \u001b[38;5;28;01melif\u001b[39;00m marks \u001b[38;5;241m>\u001b[39m\u001b[38;5;241m=\u001b[39m \u001b[38;5;241m60\u001b[39m \u001b[38;5;129;01mand\u001b[39;00m marks \u001b[38;5;241m<\u001b[39m \u001b[38;5;241m80\u001b[39m:\n",
      "\u001b[0;31mNameError\u001b[0m: name 'marks' is not defined"
     ]
    }
   ],
   "source": [
    "if marks >=80 :\n",
    "    print(\"you will be a part of A0 batch\")\n",
    "elif marks >= 60 and marks < 80:\n",
    "    print(\"you will be a part of A1 batch\")\n",
    "elif marks >= 40 and marks < 60:\n",
    "    print(\"you will be a part of A2 batch\")\n",
    "else:\n",
    "    print(\"you will be a part of A3 batch\")\n",
    "    \n",
    "    "
   ]
  },
  {
   "cell_type": "code",
   "execution_count": 47,
   "id": "0a03d4c3-5b6b-4f49-9927-2c88710fb9d6",
   "metadata": {},
   "outputs": [
    {
     "name": "stdout",
     "output_type": "stream",
     "text": [
      "you will be a part of A1 batch\n"
     ]
    }
   ],
   "source": [
    "marks = 65\n",
    "if marks >=80 :\n",
    "    print(\"you will be a part of A0 batch\")\n",
    "elif marks >= 60 and marks < 80:\n",
    "    print(\"you will be a part of A1 batch\")\n",
    "elif marks >= 40 and marks < 60:\n",
    "    print(\"you will be a part of A2 batch\")\n",
    "else:\n",
    "    print(\"you will be a part of A3 batch\")\n",
    "    \n",
    "    "
   ]
  },
  {
   "cell_type": "code",
   "execution_count": 48,
   "id": "481d702a-2ead-4f75-8580-f7eaf725959d",
   "metadata": {},
   "outputs": [
    {
     "name": "stdout",
     "output_type": "stream",
     "text": [
      "you will be a part of A3 batch\n"
     ]
    }
   ],
   "source": [
    "marks = -786767\n",
    "if marks >=80 :\n",
    "    print(\"you will be a part of A0 batch\")\n",
    "elif marks >= 60 and marks < 80:\n",
    "    print(\"you will be a part of A1 batch\")\n",
    "elif marks >= 40 and marks < 60:\n",
    "    print(\"you will be a part of A2 batch\")\n",
    "else:\n",
    "    print(\"you will be a part of A3 batch\")\n",
    "    "
   ]
  },
  {
   "cell_type": "code",
   "execution_count": 49,
   "id": "3fa6657d-d8d1-4134-8a4e-695a72840c0d",
   "metadata": {},
   "outputs": [
    {
     "name": "stdout",
     "output_type": "stream",
     "text": [
      "you will be a part of A3 batch\n"
     ]
    }
   ],
   "source": [
    "marks = 10\n",
    "if marks >=80 :\n",
    "    print(\"you will be a part of A0 batch\")\n",
    "elif marks >= 60 and marks < 80:\n",
    "    print(\"you will be a part of A1 batch\")\n",
    "elif marks >= 40 and marks < 60:\n",
    "    print(\"you will be a part of A2 batch\")\n",
    "else:\n",
    "    print(\"you will be a part of A3 batch\")"
   ]
  },
  {
   "cell_type": "code",
   "execution_count": 54,
   "id": "124c4207-1e29-4f93-a8bb-7eb8a6305e94",
   "metadata": {},
   "outputs": [
    {
     "data": {
      "text/plain": [
       "False"
      ]
     },
     "execution_count": 54,
     "metadata": {},
     "output_type": "execute_result"
    }
   ],
   "source": [
    "10>=80"
   ]
  },
  {
   "cell_type": "code",
   "execution_count": 116,
   "id": "9f6bba4d-e65e-4c1f-82f1-11c37dbc1796",
   "metadata": {},
   "outputs": [
    {
     "name": "stdin",
     "output_type": "stream",
     "text": [
      "enter your marks 12\n"
     ]
    },
    {
     "ename": "TypeError",
     "evalue": "'>=' not supported between instances of 'str' and 'int'",
     "output_type": "error",
     "traceback": [
      "\u001b[0;31m---------------------------------------------------------------------------\u001b[0m",
      "\u001b[0;31mTypeError\u001b[0m                                 Traceback (most recent call last)",
      "Cell \u001b[0;32mIn [116], line 3\u001b[0m\n\u001b[1;32m      1\u001b[0m \u001b[38;5;66;03m#in below \"and\" case me both condition shoud be true, and in \"or\" case one condition shoud be true,\u001b[39;00m\n\u001b[1;32m      2\u001b[0m marks \u001b[38;5;241m=\u001b[39m \u001b[38;5;28minput\u001b[39m(\u001b[38;5;124m\"\u001b[39m\u001b[38;5;124menter your marks\u001b[39m\u001b[38;5;124m\"\u001b[39m)\n\u001b[0;32m----> 3\u001b[0m \u001b[38;5;28;01mif\u001b[39;00m \u001b[43mmarks\u001b[49m\u001b[43m \u001b[49m\u001b[38;5;241;43m>\u001b[39;49m\u001b[38;5;241;43m=\u001b[39;49m\u001b[38;5;241;43m80\u001b[39;49m :\n\u001b[1;32m      4\u001b[0m     \u001b[38;5;28mprint\u001b[39m(\u001b[38;5;124m\"\u001b[39m\u001b[38;5;124myou will be a part of A0 batch\u001b[39m\u001b[38;5;124m\"\u001b[39m)\n\u001b[1;32m      5\u001b[0m \u001b[38;5;28;01melif\u001b[39;00m marks \u001b[38;5;241m>\u001b[39m\u001b[38;5;241m=\u001b[39m \u001b[38;5;241m60\u001b[39m \u001b[38;5;129;01mand\u001b[39;00m marks \u001b[38;5;241m<\u001b[39m \u001b[38;5;241m80\u001b[39m:\n",
      "\u001b[0;31mTypeError\u001b[0m: '>=' not supported between instances of 'str' and 'int'"
     ]
    }
   ],
   "source": [
    "#in below \"and\" case me both condition shoud be true, and in \"or\" case one condition shoud be true,\n",
    "marks = input(\"enter your marks\")\n",
    "if marks >=80 :\n",
    "    print(\"you will be a part of A0 batch\")\n",
    "elif marks >= 60 and marks < 80:\n",
    "    print(\"you will be a part of A1 batch\")\n",
    "elif marks >= 40 and marks < 60:\n",
    "    print(\"you will be a part of A2 batch\")\n",
    "else:\n",
    "    print(\"you will be a part of A3 batch\")\n",
    "    \n",
    "    "
   ]
  },
  {
   "cell_type": "code",
   "execution_count": 58,
   "id": "664794ba-998c-4d3a-aab1-8a4b7a2269df",
   "metadata": {},
   "outputs": [
    {
     "name": "stdin",
     "output_type": "stream",
     "text": [
      "enter your marks 45\n"
     ]
    }
   ],
   "source": [
    "marks = input(\"enter your marks\")"
   ]
  },
  {
   "cell_type": "code",
   "execution_count": 59,
   "id": "83b3bc18-6d84-40f9-8d09-12d1d8e0e527",
   "metadata": {},
   "outputs": [
    {
     "data": {
      "text/plain": [
       "'45'"
      ]
     },
     "execution_count": 59,
     "metadata": {},
     "output_type": "execute_result"
    }
   ],
   "source": [
    "#problem is that here jo bhi answer hoga usako string me convert kar dega,\n",
    "marks"
   ]
  },
  {
   "cell_type": "code",
   "execution_count": 60,
   "id": "4bca1d71-85d5-42db-a65d-df746045e0d1",
   "metadata": {},
   "outputs": [
    {
     "data": {
      "text/plain": [
       "str"
      ]
     },
     "execution_count": 60,
     "metadata": {},
     "output_type": "execute_result"
    }
   ],
   "source": [
    "type(marks)"
   ]
  },
  {
   "cell_type": "code",
   "execution_count": 61,
   "id": "b81139c7-915a-4950-bf73-149595566ff3",
   "metadata": {},
   "outputs": [
    {
     "name": "stdin",
     "output_type": "stream",
     "text": [
      "enter your marks 10\n"
     ]
    }
   ],
   "source": [
    "#type casting means usako list,str, tuple etc. me convert karna, \n",
    "#here marks me input me typecasting karke usako->int,floating point function, me convert kar dega,\n",
    "#here always get string in output,so we are doing tycasting,\n",
    "#if, else function will work, here,\n",
    "marks = int(input(\"enter your marks\"))"
   ]
  },
  {
   "cell_type": "code",
   "execution_count": 62,
   "id": "144bb200-4fc0-4609-99b9-569f5117f2de",
   "metadata": {},
   "outputs": [
    {
     "data": {
      "text/plain": [
       "10"
      ]
     },
     "execution_count": 62,
     "metadata": {},
     "output_type": "execute_result"
    }
   ],
   "source": [
    "marks"
   ]
  },
  {
   "cell_type": "code",
   "execution_count": 63,
   "id": "13f40317-6b08-40d9-bde7-2f041cdbf34c",
   "metadata": {},
   "outputs": [
    {
     "data": {
      "text/plain": [
       "int"
      ]
     },
     "execution_count": 63,
     "metadata": {},
     "output_type": "execute_result"
    }
   ],
   "source": [
    "type(marks)"
   ]
  },
  {
   "cell_type": "code",
   "execution_count": 64,
   "id": "7a57811f-0a62-437a-8688-b4688e8ffdc7",
   "metadata": {},
   "outputs": [
    {
     "name": "stdin",
     "output_type": "stream",
     "text": [
      "enter your marks -90\n"
     ]
    }
   ],
   "source": [
    "marks = float(input(\"enter your marks\"))"
   ]
  },
  {
   "cell_type": "code",
   "execution_count": 65,
   "id": "d7498161-38c0-4562-8852-7e6930ae6403",
   "metadata": {},
   "outputs": [
    {
     "data": {
      "text/plain": [
       "-90.0"
      ]
     },
     "execution_count": 65,
     "metadata": {},
     "output_type": "execute_result"
    }
   ],
   "source": [
    "marks"
   ]
  },
  {
   "cell_type": "code",
   "execution_count": 66,
   "id": "799fc6ed-2736-4231-94e1-10a70302235d",
   "metadata": {},
   "outputs": [
    {
     "data": {
      "text/plain": [
       "float"
      ]
     },
     "execution_count": 66,
     "metadata": {},
     "output_type": "execute_result"
    }
   ],
   "source": [
    "type(marks)"
   ]
  },
  {
   "cell_type": "code",
   "execution_count": 67,
   "id": "65680260-c732-4261-a762-f67461aee3f6",
   "metadata": {},
   "outputs": [
    {
     "name": "stdin",
     "output_type": "stream",
     "text": [
      "enter your marks -90\n"
     ]
    },
    {
     "name": "stdout",
     "output_type": "stream",
     "text": [
      "you will be a part of A3 batch\n"
     ]
    }
   ],
   "source": [
    "marks = int(input(\"enter your marks\"))\n",
    "if marks >=80 :\n",
    "    print(\"you will be a part of A0 batch\")\n",
    "elif marks >= 60 and marks < 80:\n",
    "    print(\"you will be a part of A1 batch\")\n",
    "elif marks >= 40 and marks < 60:\n",
    "    print(\"you will be a part of A2 batch\")\n",
    "else:\n",
    "    print(\"you will be a part of A3 batch\")\n",
    "    \n",
    "    "
   ]
  },
  {
   "cell_type": "code",
   "execution_count": 68,
   "id": "d69719fa-1fff-4064-a8ee-f7ffa316ef13",
   "metadata": {},
   "outputs": [
    {
     "name": "stdin",
     "output_type": "stream",
     "text": [
      "enter your marks 50\n"
     ]
    },
    {
     "name": "stdout",
     "output_type": "stream",
     "text": [
      "you will be a part of A2 batch\n"
     ]
    }
   ],
   "source": [
    "marks = int(input(\"enter your marks\"))\n",
    "if marks >=80 :\n",
    "    print(\"you will be a part of A0 batch\")\n",
    "elif marks >= 60 and marks < 80:\n",
    "    print(\"you will be a part of A1 batch\")\n",
    "elif marks >= 40 and marks < 60:\n",
    "    print(\"you will be a part of A2 batch\")\n",
    "else:\n",
    "    print(\"you will be a part of A3 batch\")\n",
    "    \n",
    "    "
   ]
  },
  {
   "cell_type": "code",
   "execution_count": 69,
   "id": "cd104123-f5dc-4045-a1d8-76401f562c4d",
   "metadata": {},
   "outputs": [
    {
     "name": "stdin",
     "output_type": "stream",
     "text": [
      "enter your marks 9000\n"
     ]
    },
    {
     "name": "stdout",
     "output_type": "stream",
     "text": [
      "you will be a part of A0 batch\n"
     ]
    }
   ],
   "source": [
    "#there is needed user input 'marks' for output,\n",
    "marks = int(input(\"enter your marks\"))\n",
    "if marks >=80 :\n",
    "    print(\"you will be a part of A0 batch\")\n",
    "elif marks >= 60 and marks < 80:\n",
    "    print(\"you will be a part of A1 batch\")\n",
    "elif marks >= 40 and marks < 60:\n",
    "    print(\"you will be a part of A2 batch\")\n",
    "else:\n",
    "    print(\"you will be a part of A3 batch\")\n",
    "    \n",
    "    \n",
    "    "
   ]
  },
  {
   "cell_type": "code",
   "execution_count": 70,
   "id": "81911f2e-8861-47e9-8edf-088e7b7a4d3e",
   "metadata": {},
   "outputs": [
    {
     "name": "stdin",
     "output_type": "stream",
     "text": [
      "enter price 45\n"
     ]
    },
    {
     "name": "stdout",
     "output_type": "stream",
     "text": [
      "i will purchase\n"
     ]
    }
   ],
   "source": [
    "price = int(input(\"enter price\" ))\n",
    "if price > 1000:\n",
    "    print(\"i will not purchase\")\n",
    "else :\n",
    "    print(\"i will purchase\")\n",
    " \n",
    "    "
   ]
  },
  {
   "cell_type": "code",
   "execution_count": 71,
   "id": "5324e2f4-0867-40a6-8423-2ea9a19c5c72",
   "metadata": {},
   "outputs": [
    {
     "name": "stdin",
     "output_type": "stream",
     "text": [
      "enter price 1000\n"
     ]
    }
   ],
   "source": [
    "price = int(input(\"enter price\" ))\n",
    "if price > 1000:\n",
    "    print(\"i will not purchase\")\n",
    "\n",
    " \n",
    "    "
   ]
  },
  {
   "cell_type": "code",
   "execution_count": 72,
   "id": "d6553089-3e70-4837-b126-7126b9f60198",
   "metadata": {},
   "outputs": [
    {
     "name": "stdin",
     "output_type": "stream",
     "text": [
      "enter price 2000\n"
     ]
    },
    {
     "name": "stdout",
     "output_type": "stream",
     "text": [
      "i will not purchase\n"
     ]
    }
   ],
   "source": [
    "price = int(input(\"enter price\" ))\n",
    "if price > 1000:\n",
    "    print(\"i will not purchase\")\n",
    "\n",
    "    "
   ]
  },
  {
   "cell_type": "code",
   "execution_count": 73,
   "id": "1e636bf1-ab63-4b66-9ec3-59dd857a1af8",
   "metadata": {},
   "outputs": [
    {
     "name": "stdin",
     "output_type": "stream",
     "text": [
      "enter price 1500\n"
     ]
    },
    {
     "name": "stdout",
     "output_type": "stream",
     "text": [
      "i will not purchase\n"
     ]
    }
   ],
   "source": [
    "# : must for if and else condition function, code always in a sequential order execute hota hai,know about nestedcondition - ????\n",
    "price = int(input(\"enter price\" ))\n",
    "if price > 1000:\n",
    "    print(\"i will not purchase\")\n",
    "    if price > 5000:\n",
    "        print(\"this is too much\")"
   ]
  },
  {
   "cell_type": "code",
   "execution_count": 74,
   "id": "5c4e7371-f6c3-4888-9b03-fa714e8bc1c4",
   "metadata": {},
   "outputs": [
    {
     "name": "stdin",
     "output_type": "stream",
     "text": [
      "enter price 455\n"
     ]
    }
   ],
   "source": [
    "price = int(input(\"enter price\" ))\n",
    "if price > 1000:\n",
    "    print(\"i will not purchase\")\n",
    "    if price > 5000:\n",
    "        print(\"this is too much\")\n",
    "    elif price < 2000 :\n",
    "        print(\"its ok\")\n",
    "        \n",
    "        "
   ]
  },
  {
   "cell_type": "code",
   "execution_count": 75,
   "id": "2d304e7a-b1ca-44fd-a36f-19e4dd3184ad",
   "metadata": {},
   "outputs": [
    {
     "name": "stdin",
     "output_type": "stream",
     "text": [
      "enter price 1500\n"
     ]
    },
    {
     "name": "stdout",
     "output_type": "stream",
     "text": [
      "i will not purchase\n",
      "its ok\n"
     ]
    }
   ],
   "source": [
    "#here you can written multiple statements of if and elif,else as manytimes, it means nested if and nested elif statements we can write\n",
    "price = int(input(\"enter price\" ))\n",
    "if price > 1000:\n",
    "    print(\"i will not purchase\")\n",
    "    if price > 5000:\n",
    "        print(\"this is too much\")\n",
    "    elif price < 2000 :\n",
    "        print(\"its ok\")\n",
    "elif price < 1000 :\n",
    "    print(\"i will purchase\")\n",
    "    print(\"i will not purchase\")\n",
    "    if price > 5000:\n",
    "        print(\"this is too much\")\n",
    "    elif price < 2000 :\n",
    "        print(\"its ok\")\n",
    "else :\n",
    "    print(\"not interested\")\n",
    "    print(\"i will not purchase\")\n",
    "    if price > 5000:\n",
    "        print(\"this is too much\")\n",
    "    elif price < 2000 :\n",
    "        print(\"its ok\")\n",
    "    \n",
    "    "
   ]
  },
  {
   "cell_type": "code",
   "execution_count": 76,
   "id": "4584da97-0038-4f90-b5a7-1d7136ad885b",
   "metadata": {},
   "outputs": [],
   "source": [
    "l=[1,2,3,3,4,5,6,7,8]"
   ]
  },
  {
   "cell_type": "code",
   "execution_count": 77,
   "id": "4be448bd-751e-4181-9020-b350a2887627",
   "metadata": {},
   "outputs": [
    {
     "data": {
      "text/plain": [
       "2"
      ]
     },
     "execution_count": 77,
     "metadata": {},
     "output_type": "execute_result"
    }
   ],
   "source": [
    "l[0]+1"
   ]
  },
  {
   "cell_type": "code",
   "execution_count": 78,
   "id": "714db65f-ae73-4f62-8068-266483cb6ab6",
   "metadata": {},
   "outputs": [],
   "source": [
    "l1=[]"
   ]
  },
  {
   "cell_type": "code",
   "execution_count": 79,
   "id": "87536a58-d444-4b44-9fc1-b924d02e379a",
   "metadata": {},
   "outputs": [],
   "source": [
    "l1.append(l[0]+1)"
   ]
  },
  {
   "cell_type": "code",
   "execution_count": 80,
   "id": "38626941-c54e-4e79-a153-f724f9c239e8",
   "metadata": {},
   "outputs": [
    {
     "data": {
      "text/plain": [
       "[2]"
      ]
     },
     "execution_count": 80,
     "metadata": {},
     "output_type": "execute_result"
    }
   ],
   "source": [
    "l1"
   ]
  },
  {
   "cell_type": "code",
   "execution_count": 81,
   "id": "c9291d0e-49c6-4872-bc42-bd6c0f58dcf2",
   "metadata": {},
   "outputs": [
    {
     "data": {
      "text/plain": [
       "[1, 2, 3, 3, 4, 5, 6, 7, 8]"
      ]
     },
     "execution_count": 81,
     "metadata": {},
     "output_type": "execute_result"
    }
   ],
   "source": [
    "l"
   ]
  },
  {
   "cell_type": "code",
   "execution_count": 82,
   "id": "f79674df-3843-4923-a239-617dcbaf1c97",
   "metadata": {},
   "outputs": [
    {
     "name": "stdout",
     "output_type": "stream",
     "text": [
      "1\n",
      "2\n",
      "3\n",
      "3\n",
      "4\n",
      "5\n",
      "6\n",
      "7\n",
      "8\n"
     ]
    }
   ],
   "source": [
    "# iterable means multiple variable, here i is a variable,which save the data,data keep inside i,\n",
    "# for loop ends when iterable variable ends,iterable data finish then loop break,\n",
    "for i in l:\n",
    "    print(i)"
   ]
  },
  {
   "cell_type": "code",
   "execution_count": 83,
   "id": "4b3ff1ea-01b1-4a22-9c7b-551fbde2bb6e",
   "metadata": {},
   "outputs": [
    {
     "name": "stdout",
     "output_type": "stream",
     "text": [
      "[1, 2, 3, 3, 4, 5, 6, 7, 8]\n",
      "[1, 2, 3, 3, 4, 5, 6, 7, 8]\n",
      "[1, 2, 3, 3, 4, 5, 6, 7, 8]\n",
      "[1, 2, 3, 3, 4, 5, 6, 7, 8]\n",
      "[1, 2, 3, 3, 4, 5, 6, 7, 8]\n",
      "[1, 2, 3, 3, 4, 5, 6, 7, 8]\n",
      "[1, 2, 3, 3, 4, 5, 6, 7, 8]\n",
      "[1, 2, 3, 3, 4, 5, 6, 7, 8]\n",
      "[1, 2, 3, 3, 4, 5, 6, 7, 8]\n"
     ]
    }
   ],
   "source": [
    "for i in l:\n",
    "    print(l)"
   ]
  },
  {
   "cell_type": "code",
   "execution_count": 84,
   "id": "6e3de081-44e9-4df8-b01c-78f971a36e90",
   "metadata": {},
   "outputs": [
    {
     "name": "stdout",
     "output_type": "stream",
     "text": [
      "2\n",
      "3\n",
      "4\n",
      "4\n",
      "5\n",
      "6\n",
      "7\n",
      "8\n",
      "9\n"
     ]
    }
   ],
   "source": [
    "for i in l:\n",
    "    print(i+1)"
   ]
  },
  {
   "cell_type": "code",
   "execution_count": 85,
   "id": "b60d676b-e8f2-43a8-a198-f63bdd5fa2a5",
   "metadata": {},
   "outputs": [
    {
     "name": "stdout",
     "output_type": "stream",
     "text": [
      "2\n",
      "3\n",
      "4\n",
      "4\n",
      "5\n",
      "6\n",
      "7\n",
      "8\n",
      "9\n"
     ]
    }
   ],
   "source": [
    "l1=[]\n",
    "for i in l:\n",
    "    print(i+1)"
   ]
  },
  {
   "cell_type": "code",
   "execution_count": 114,
   "id": "40f7c21f-d412-46b2-b64f-3579fcbecf2c",
   "metadata": {},
   "outputs": [
    {
     "name": "stdout",
     "output_type": "stream",
     "text": [
      "2\n",
      "3\n",
      "4\n",
      "5\n",
      "5\n"
     ]
    },
    {
     "ename": "TypeError",
     "evalue": "can only concatenate str (not \"int\") to str",
     "output_type": "error",
     "traceback": [
      "\u001b[0;31m---------------------------------------------------------------------------\u001b[0m",
      "\u001b[0;31mTypeError\u001b[0m                                 Traceback (most recent call last)",
      "Cell \u001b[0;32mIn [114], line 5\u001b[0m\n\u001b[1;32m      3\u001b[0m l1\u001b[38;5;241m=\u001b[39m[]\n\u001b[1;32m      4\u001b[0m \u001b[38;5;28;01mfor\u001b[39;00m i \u001b[38;5;129;01min\u001b[39;00m l:\n\u001b[0;32m----> 5\u001b[0m     \u001b[38;5;28mprint\u001b[39m(\u001b[43mi\u001b[49m\u001b[38;5;241;43m+\u001b[39;49m\u001b[38;5;241;43m1\u001b[39;49m)\n\u001b[1;32m      6\u001b[0m     l1\u001b[38;5;241m.\u001b[39mappend(i\u001b[38;5;241m+\u001b[39m\u001b[38;5;241m1\u001b[39m)\n\u001b[1;32m      7\u001b[0m l1\n",
      "\u001b[0;31mTypeError\u001b[0m: can only concatenate str (not \"int\") to str"
     ]
    }
   ],
   "source": [
    "#its a for loop function, here we use blaklist declare to drop he data inside,\n",
    "#type casting means data change karana in a different data form,\n",
    "l1=[]\n",
    "for i in l:\n",
    "    print(i+1)\n",
    "    l1.append(i+1)\n",
    "l1\n",
    "\n"
   ]
  },
  {
   "cell_type": "code",
   "execution_count": 111,
   "id": "eb1ca5db-b3a2-45b4-91b2-4ef0b58e27f6",
   "metadata": {},
   "outputs": [
    {
     "data": {
      "text/plain": [
       "[1, 2, 3, 4, 4, 'sudh', 'kumar', 324, 34.456, 'abc']"
      ]
     },
     "execution_count": 111,
     "metadata": {},
     "output_type": "execute_result"
    }
   ],
   "source": [
    "l"
   ]
  },
  {
   "cell_type": "code",
   "execution_count": 88,
   "id": "9f56ce32-c292-4e22-9e25-5fff8a8ae15c",
   "metadata": {},
   "outputs": [],
   "source": [
    "l=[\"sudh\", \"kumar\", \"pwskills\", \"course\"]"
   ]
  },
  {
   "cell_type": "code",
   "execution_count": 89,
   "id": "effe477d-fa69-4498-b312-b06ea80bc345",
   "metadata": {},
   "outputs": [
    {
     "name": "stdout",
     "output_type": "stream",
     "text": [
      "sudh\n",
      "kumar\n",
      "pwskills\n",
      "course\n"
     ]
    }
   ],
   "source": [
    "for i in l :\n",
    "    print(i)"
   ]
  },
  {
   "cell_type": "code",
   "execution_count": 90,
   "id": "1e66d9d8-37a7-4e42-abfe-3b9884749ba7",
   "metadata": {},
   "outputs": [
    {
     "name": "stdout",
     "output_type": "stream",
     "text": [
      "sudh\n",
      "kumar\n",
      "pwskills\n",
      "course\n"
     ]
    }
   ],
   "source": [
    "l1=[]\n",
    "for i in l :\n",
    "    print(i)\n",
    "    l1.append(i.upper())"
   ]
  },
  {
   "cell_type": "code",
   "execution_count": 91,
   "id": "4c71698d-ed6a-43da-bc48-be2596d2bf56",
   "metadata": {},
   "outputs": [
    {
     "data": {
      "text/plain": [
       "['SUDH', 'KUMAR', 'PWSKILLS', 'COURSE']"
      ]
     },
     "execution_count": 91,
     "metadata": {},
     "output_type": "execute_result"
    }
   ],
   "source": [
    "l1"
   ]
  },
  {
   "cell_type": "code",
   "execution_count": 92,
   "id": "7ac40ed2-b478-4a7a-995b-f9a7ec8faad6",
   "metadata": {},
   "outputs": [],
   "source": [
    "l=[1,2,3,4,4,\"sudh\", \"kumar\", 324,34.456,\"abc\" ]"
   ]
  },
  {
   "cell_type": "code",
   "execution_count": 93,
   "id": "96a014ca-5a3b-4704-8cab-79044621ebd9",
   "metadata": {},
   "outputs": [],
   "source": [
    "l1_num=[]\n",
    "l2_str=[]\n",
    "for i in l:\n",
    "    if type(i)== int or type(i) == float :\n",
    "        l1_num.append(i)\n",
    "    else :\n",
    "        l2_str.append(i)\n",
    "    \n",
    "    "
   ]
  },
  {
   "cell_type": "code",
   "execution_count": 94,
   "id": "7a9bc51f-c6e5-4af9-a9e3-bcf05bdd0a29",
   "metadata": {},
   "outputs": [
    {
     "data": {
      "text/plain": [
       "[1, 2, 3, 4, 4, 324, 34.456]"
      ]
     },
     "execution_count": 94,
     "metadata": {},
     "output_type": "execute_result"
    }
   ],
   "source": [
    "l1_num"
   ]
  },
  {
   "cell_type": "code",
   "execution_count": 95,
   "id": "51b9964b-ebc6-4fbd-be5b-ef952781be8a",
   "metadata": {},
   "outputs": [
    {
     "data": {
      "text/plain": [
       "['sudh', 'kumar', 'abc']"
      ]
     },
     "execution_count": 95,
     "metadata": {},
     "output_type": "execute_result"
    }
   ],
   "source": [
    "l2_str"
   ]
  },
  {
   "cell_type": "code",
   "execution_count": null,
   "id": "31a9f116-71dc-4443-aeb2-4f60882e0719",
   "metadata": {},
   "outputs": [],
   "source": [
    "l1_num=[]\n",
    "l2_str=[]\n",
    "for i in l:\n",
    "    if type(i)== int \n",
    "    l1_num.append(i)\n",
    "    "
   ]
  },
  {
   "cell_type": "code",
   "execution_count": 144,
   "id": "ec6a77ff-b40e-4046-8a23-d8fb97a7e73c",
   "metadata": {},
   "outputs": [
    {
     "data": {
      "text/plain": [
       "[1, 2, 3, 4, 4, 324, 34.456]"
      ]
     },
     "execution_count": 144,
     "metadata": {},
     "output_type": "execute_result"
    }
   ],
   "source": [
    "l1_num"
   ]
  },
  {
   "cell_type": "markdown",
   "id": "e1081374-ba89-420e-9d63-ac799c05527d",
   "metadata": {},
   "source": [
    "class end here, (01:53:00)"
   ]
  },
  {
   "cell_type": "code",
   "execution_count": 118,
   "id": "1f723ae2-5330-4e41-a2e2-320d54124c58",
   "metadata": {},
   "outputs": [],
   "source": [
    "#if , elif and else is a condition statement,"
   ]
  },
  {
   "cell_type": "code",
   "execution_count": 96,
   "id": "63b9575a-1b26-457d-89c3-3a3628df614d",
   "metadata": {},
   "outputs": [],
   "source": [
    "#go to github.com make account there,github is professional, as a professional must use,and mensioned in resume give your github link in resume,\n",
    "#most of organizations are using this in the backend ,\n",
    "#github is a repository, and repository as a folder,repository name as a folder name,"
   ]
  },
  {
   "cell_type": "markdown",
   "id": "cd29ccef-2cb4-40d8-bd3f-51a05df306f4",
   "metadata": {},
   "source": [
    "doubt sesion starts from here,(02:25:00)"
   ]
  },
  {
   "cell_type": "code",
   "execution_count": 97,
   "id": "062bc991-2250-4bce-8b6e-d488f71377dc",
   "metadata": {},
   "outputs": [
    {
     "ename": "SyntaxError",
     "evalue": "invalid syntax (4003812374.py, line 4)",
     "output_type": "error",
     "traceback": [
      "\u001b[0;36m  Cell \u001b[0;32mIn [97], line 4\u001b[0;36m\u001b[0m\n\u001b[0;31m    {} - with flat element set,\u001b[0m\n\u001b[0m         ^\u001b[0m\n\u001b[0;31mSyntaxError\u001b[0m\u001b[0;31m:\u001b[0m invalid syntax\n"
     ]
    }
   ],
   "source": [
    "#when we will use , which type of brackets,\n",
    "[] - list \n",
    "() - tuple\n",
    "{} - with flat element set,\n",
    "{} - with key value pair dict.,"
   ]
  },
  {
   "cell_type": "code",
   "execution_count": 98,
   "id": "36afd01c-a0a6-49f4-a8ec-f20f4fed61cf",
   "metadata": {},
   "outputs": [],
   "source": [
    "t=(True,4,5,6)"
   ]
  },
  {
   "cell_type": "code",
   "execution_count": 99,
   "id": "7c6dcbac-6e9f-4e2d-bd29-d4eb7466a410",
   "metadata": {},
   "outputs": [
    {
     "data": {
      "text/plain": [
       "4"
      ]
     },
     "execution_count": 99,
     "metadata": {},
     "output_type": "execute_result"
    }
   ],
   "source": [
    "len(t)"
   ]
  },
  {
   "cell_type": "code",
   "execution_count": 100,
   "id": "879dfb41-fe08-4d64-a505-28323702e8df",
   "metadata": {},
   "outputs": [],
   "source": [
    "t=(True,4,5,6,True)"
   ]
  },
  {
   "cell_type": "code",
   "execution_count": 101,
   "id": "fea7d233-bd33-4f77-b2e7-253fab06dbd4",
   "metadata": {},
   "outputs": [
    {
     "data": {
      "text/plain": [
       "5"
      ]
     },
     "execution_count": 101,
     "metadata": {},
     "output_type": "execute_result"
    }
   ],
   "source": [
    "len(t)"
   ]
  },
  {
   "cell_type": "code",
   "execution_count": 102,
   "id": "0dfdfb9a-cfa9-4149-a472-e553e417f17d",
   "metadata": {},
   "outputs": [
    {
     "data": {
      "text/plain": [
       "2"
      ]
     },
     "execution_count": 102,
     "metadata": {},
     "output_type": "execute_result"
    }
   ],
   "source": [
    "t.count(True)"
   ]
  },
  {
   "cell_type": "code",
   "execution_count": 103,
   "id": "53d73d49-c80f-4bf8-b171-e5105835cbdc",
   "metadata": {},
   "outputs": [],
   "source": [
    "t=(True,4,5,6)"
   ]
  },
  {
   "cell_type": "code",
   "execution_count": 104,
   "id": "eee8394d-8fa0-4867-9253-0cc5f5a1bbc1",
   "metadata": {},
   "outputs": [
    {
     "data": {
      "text/plain": [
       "4"
      ]
     },
     "execution_count": 104,
     "metadata": {},
     "output_type": "execute_result"
    }
   ],
   "source": [
    "len(t)"
   ]
  },
  {
   "cell_type": "code",
   "execution_count": 105,
   "id": "6e30af32-2496-4a8b-ad85-bbb3a46ac94c",
   "metadata": {},
   "outputs": [
    {
     "data": {
      "text/plain": [
       "1"
      ]
     },
     "execution_count": 105,
     "metadata": {},
     "output_type": "execute_result"
    }
   ],
   "source": [
    "t.count(True)"
   ]
  },
  {
   "cell_type": "code",
   "execution_count": 117,
   "id": "6fa21610-d8ba-4cb1-abaf-274305232a96",
   "metadata": {},
   "outputs": [
    {
     "ename": "SyntaxError",
     "evalue": "invalid syntax (851617868.py, line 2)",
     "output_type": "error",
     "traceback": [
      "\u001b[0;36m  Cell \u001b[0;32mIn [117], line 2\u001b[0;36m\u001b[0m\n\u001b[0;31m    *if , elif and else is a condition statement,\u001b[0m\n\u001b[0m     ^\u001b[0m\n\u001b[0;31mSyntaxError\u001b[0m\u001b[0;31m:\u001b[0m invalid syntax\n"
     ]
    }
   ],
   "source": [
    "#there is taking true count is 2 , bcoz 1st is from 1 and another is true also in list, \n",
    "*if , elif and else is a condition statement,\n",
    "s2=(1,4,7.7, \"class\", True)"
   ]
  },
  {
   "cell_type": "code",
   "execution_count": 107,
   "id": "9b2322da-657d-4355-bd44-1d2b679dddaf",
   "metadata": {},
   "outputs": [
    {
     "data": {
      "text/plain": [
       "2"
      ]
     },
     "execution_count": 107,
     "metadata": {},
     "output_type": "execute_result"
    }
   ],
   "source": [
    "s2.count(True)"
   ]
  },
  {
   "cell_type": "markdown",
   "id": "1a39db9c-9d73-4020-b9b3-d758a9439bf7",
   "metadata": {},
   "source": [
    "vfnjkvm  m mf mfvmfbmfm m mm mi mov "
   ]
  },
  {
   "cell_type": "markdown",
   "id": "682e5420-abbd-4033-96aa-12bd3e1cb883",
   "metadata": {},
   "source": [
    "dfndfjk\n",
    "vvv\n",
    "vm\n",
    "vm\n",
    "vm\n",
    "vmvm\n",
    "mv\n",
    "vm\n",
    "vm\n",
    "dmvmv\n",
    "vm\n",
    "mv\n",
    "mv\n",
    "mv\n",
    "v"
   ]
  },
  {
   "cell_type": "code",
   "execution_count": 120,
   "id": "7612464d-dbed-4f6c-bd9f-f82a63ba1e62",
   "metadata": {},
   "outputs": [
    {
     "name": "stdin",
     "output_type": "stream",
     "text": [
      "enter your marks 46\n"
     ]
    },
    {
     "name": "stdout",
     "output_type": "stream",
     "text": [
      "you will be a part of A2 batch\n"
     ]
    }
   ],
   "source": [
    "marks = int(input(\"enter your marks\"))\n",
    "if marks >=80 :\n",
    "    print(\"you will be a part of A0 batch\")\n",
    "    for i in l:\n",
    "        print(it is ok)\n",
    "elif marks >= 60 and marks < 80:\n",
    "    print(\"you will be a part of A1 batch\")\n",
    "elif marks >= 40 and marks < 60:\n",
    "    print(\"you will be a part of A2 batch\")\n",
    "else:\n",
    "    print(\"you will be a part of A3 batch\")\n",
    "    \n",
    "    "
   ]
  },
  {
   "cell_type": "code",
   "execution_count": 121,
   "id": "67e065f7-edcb-4004-9af2-932e555b8d77",
   "metadata": {},
   "outputs": [
    {
     "name": "stdin",
     "output_type": "stream",
     "text": [
      "enter your marks 12\n"
     ]
    },
    {
     "name": "stdout",
     "output_type": "stream",
     "text": [
      "you will be a part of A3 batch\n"
     ]
    }
   ],
   "source": [
    "#in school always take only 100marks, can't enter more than 100marks,\n",
    "marks = int(input(\"enter your marks\"))\n",
    "\n",
    "if marks  > 100:\n",
    "    print(\"this is not a valid marks\")\n",
    "else:\n",
    "    if marks >=80 :\n",
    "        print(\"you will be a part of A0 batch\")\n",
    "    elif marks >= 60 and marks < 80:\n",
    "        print(\"you will be a part of A1 batch\")\n",
    "    elif marks >= 40 and marks < 60:\n",
    "        print(\"you will be a part of A2 batch\")\n",
    "    else:\n",
    "        print(\"you will be a part of A3 batch\")\n",
    "    \n",
    "    "
   ]
  },
  {
   "cell_type": "code",
   "execution_count": 122,
   "id": "add2caea-cec2-4b8c-977c-ecc1bb456506",
   "metadata": {},
   "outputs": [],
   "source": [
    "#str is immutable object, you can not enter 1 on index n, so we can't change , so this is immutable,\n",
    "s=\"munna\""
   ]
  },
  {
   "cell_type": "code",
   "execution_count": 123,
   "id": "5acdcd77-c128-475c-8224-df60227c9fe8",
   "metadata": {},
   "outputs": [
    {
     "ename": "TypeError",
     "evalue": "'str' object does not support item assignment",
     "output_type": "error",
     "traceback": [
      "\u001b[0;31m---------------------------------------------------------------------------\u001b[0m",
      "\u001b[0;31mTypeError\u001b[0m                                 Traceback (most recent call last)",
      "Cell \u001b[0;32mIn [123], line 1\u001b[0m\n\u001b[0;32m----> 1\u001b[0m \u001b[43ms\u001b[49m\u001b[43m[\u001b[49m\u001b[38;5;241;43m0\u001b[39;49m\u001b[43m]\u001b[49m\u001b[38;5;241m=\u001b[39m\u001b[38;5;241m1\u001b[39m\n",
      "\u001b[0;31mTypeError\u001b[0m: 'str' object does not support item assignment"
     ]
    }
   ],
   "source": [
    "s[0]=1"
   ]
  },
  {
   "cell_type": "code",
   "execution_count": 124,
   "id": "097fb404-9de7-49d7-9084-7c37a26cda51",
   "metadata": {},
   "outputs": [],
   "source": [
    "l=[1,2,3,45]"
   ]
  },
  {
   "cell_type": "code",
   "execution_count": 125,
   "id": "dd95b594-f389-4da6-bd9c-5d09d047bb3d",
   "metadata": {},
   "outputs": [
    {
     "data": {
      "text/plain": [
       "1"
      ]
     },
     "execution_count": 125,
     "metadata": {},
     "output_type": "execute_result"
    }
   ],
   "source": [
    "l[0]"
   ]
  },
  {
   "cell_type": "code",
   "execution_count": 127,
   "id": "492473ca-4f85-468a-ba2b-1d0ce76aeb6f",
   "metadata": {},
   "outputs": [],
   "source": [
    "#in list you can put value by indexing basis, so that called mutable objects,\n",
    "l[0]=100"
   ]
  },
  {
   "cell_type": "code",
   "execution_count": 128,
   "id": "04825fb9-5d15-42a6-8300-9f701cfb6de5",
   "metadata": {},
   "outputs": [
    {
     "data": {
      "text/plain": [
       "[100, 2, 3, 45]"
      ]
     },
     "execution_count": 128,
     "metadata": {},
     "output_type": "execute_result"
    }
   ],
   "source": [
    "l"
   ]
  },
  {
   "cell_type": "code",
   "execution_count": 129,
   "id": "90c1d662-2c94-4b41-81b7-cf41ea2e7832",
   "metadata": {},
   "outputs": [
    {
     "name": "stdout",
     "output_type": "stream",
     "text": [
      "101\n",
      "3\n",
      "4\n",
      "46\n"
     ]
    },
    {
     "data": {
      "text/plain": [
       "[101, 3, 4, 46]"
      ]
     },
     "execution_count": 129,
     "metadata": {},
     "output_type": "execute_result"
    }
   ],
   "source": [
    "l2=[]\n",
    "for i in l:\n",
    "    l2.append(i+1)\n",
    "    print(i+1)\n",
    "l2\n",
    "    \n",
    "    "
   ]
  },
  {
   "cell_type": "code",
   "execution_count": 130,
   "id": "7ee64a96-43ea-4de5-b716-d2d9e86ad524",
   "metadata": {},
   "outputs": [
    {
     "name": "stdout",
     "output_type": "stream",
     "text": [
      "3\n",
      "4\n",
      "5\n",
      "6\n",
      "6\n"
     ]
    },
    {
     "data": {
      "text/plain": [
       "[3, 4, 5, 6, 6]"
      ]
     },
     "execution_count": 130,
     "metadata": {},
     "output_type": "execute_result"
    }
   ],
   "source": [
    "l2=[]\n",
    "for i in l1:\n",
    "    l2.append(i+1)\n",
    "    print(i+1)\n",
    "l2\n",
    "\n",
    "\n",
    "\n",
    "\n"
   ]
  },
  {
   "cell_type": "code",
   "execution_count": 131,
   "id": "520fe867-0812-4e03-a343-ff15db36a826",
   "metadata": {},
   "outputs": [],
   "source": [
    "l=[\"azzu\", \"khatri\",\"pwskills\", \"course\"]"
   ]
  },
  {
   "cell_type": "code",
   "execution_count": 132,
   "id": "97851c8d-cc57-43b3-bdf2-9a13abbcad75",
   "metadata": {},
   "outputs": [
    {
     "name": "stdout",
     "output_type": "stream",
     "text": [
      "azzu\n",
      "khatri\n",
      "pwskills\n",
      "course\n"
     ]
    }
   ],
   "source": [
    "l1=[]\n",
    "for i in l:\n",
    "    print(i)\n",
    "    l1.append(i.upper())"
   ]
  },
  {
   "cell_type": "code",
   "execution_count": 133,
   "id": "aba29925-f1db-4e53-ad74-1943fe40b12b",
   "metadata": {},
   "outputs": [
    {
     "data": {
      "text/plain": [
       "['AZZU', 'KHATRI', 'PWSKILLS', 'COURSE']"
      ]
     },
     "execution_count": 133,
     "metadata": {},
     "output_type": "execute_result"
    }
   ],
   "source": [
    "l1"
   ]
  },
  {
   "cell_type": "code",
   "execution_count": 134,
   "id": "931f3af4-3854-447e-bb06-e73938e21f2f",
   "metadata": {},
   "outputs": [],
   "source": [
    "s=\"akshat\""
   ]
  },
  {
   "cell_type": "code",
   "execution_count": 136,
   "id": "81e88d00-d377-4a18-a12d-de7c448cc6e6",
   "metadata": {},
   "outputs": [
    {
     "name": "stdout",
     "output_type": "stream",
     "text": [
      "a\n",
      "k\n",
      "s\n",
      "h\n",
      "a\n",
      "t\n"
     ]
    }
   ],
   "source": [
    "for ak in s:\n",
    "    print(ak)"
   ]
  },
  {
   "cell_type": "code",
   "execution_count": 137,
   "id": "6ece8b74-8f08-4fe6-8156-713f963442fe",
   "metadata": {},
   "outputs": [
    {
     "name": "stdout",
     "output_type": "stream",
     "text": [
      "a\n",
      "k\n",
      "s\n",
      "h\n",
      "a\n",
      "t\n"
     ]
    }
   ],
   "source": [
    "for ak in \"akshat\":\n",
    "    print(ak)"
   ]
  },
  {
   "cell_type": "code",
   "execution_count": 138,
   "id": "40da5225-0467-4136-bd67-3ecfd8018e5d",
   "metadata": {},
   "outputs": [
    {
     "name": "stdout",
     "output_type": "stream",
     "text": [
      "keys :  ['a', 'b', 'c']\n",
      "values :  ['akshat', 'bhuvan', 'chandan']\n"
     ]
    }
   ],
   "source": [
    "dict1 = {'a': 'akshat', 'b': 'bhuvan', 'c': 'chandan'}\n",
    " \n",
    "keys = []\n",
    "values = []\n",
    "for item in dict1.items():\n",
    "    keys.append(item[0]), values.append(item[1])\n",
    "\n",
    "print(\"keys : \", keys)\n",
    "print(\"values : \", values)"
   ]
  },
  {
   "cell_type": "code",
   "execution_count": 140,
   "id": "2a18d4df-fd6a-4caa-b377-7fb1f4a35005",
   "metadata": {},
   "outputs": [],
   "source": [
    "#DSA concept only used for logic buiding, if u good in dsa then write good code, logic build,\n",
    "#DSA hv much algorithms,"
   ]
  },
  {
   "cell_type": "code",
   "execution_count": 141,
   "id": "49cf8102-411b-4d2d-9152-58cb03d39030",
   "metadata": {},
   "outputs": [
    {
     "data": {
      "text/plain": [
       "{'launch_date': {12, 14, 28},\n",
       " 'class_time': {'web_dev': 8,\n",
       "  'Data science masters': 8,\n",
       "  'java with dsa and system design': 7},\n",
       " 'mentor': ['sudhanshu', 'krish', 'anurag', 'hayder']}"
      ]
     },
     "execution_count": 141,
     "metadata": {},
     "output_type": "execute_result"
    }
   ],
   "source": [
    "d6"
   ]
  },
  {
   "cell_type": "code",
   "execution_count": 143,
   "id": "b3471547-b62d-4561-957d-9086c17c26e4",
   "metadata": {},
   "outputs": [
    {
     "data": {
      "text/plain": [
       "{3: None, 4: None, 5: None, 6: None}"
      ]
     },
     "execution_count": 143,
     "metadata": {},
     "output_type": "execute_result"
    }
   ],
   "source": [
    "d6.fromkeys([3,4,5,6])"
   ]
  },
  {
   "cell_type": "code",
   "execution_count": null,
   "id": "3728194e-de6d-450e-995c-405609c9e8ac",
   "metadata": {},
   "outputs": [],
   "source": [
    "#\"switch\" keys is not available in python, \n",
    "#in  python \"match\" case are available,"
   ]
  }
 ],
 "metadata": {
  "kernelspec": {
   "display_name": "Python 3 (ipykernel)",
   "language": "python",
   "name": "python3"
  },
  "language_info": {
   "codemirror_mode": {
    "name": "ipython",
    "version": 3
   },
   "file_extension": ".py",
   "mimetype": "text/x-python",
   "name": "python",
   "nbconvert_exporter": "python",
   "pygments_lexer": "ipython3",
   "version": "3.10.6"
  }
 },
 "nbformat": 4,
 "nbformat_minor": 5
}
